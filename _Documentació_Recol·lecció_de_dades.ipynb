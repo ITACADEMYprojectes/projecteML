{
 "cells": [
  {
   "cell_type": "markdown",
   "id": "6dc70b75-e37c-43e0-bc00-402176664359",
   "metadata": {},
   "source": [
    "# Ejemplo de documentación del Proceso de Recolección de Datos para el Proyecto de Predicción de Gasto Anual de la Tienda de Ropa\r\n",
    "\r\n",
    "## 1. Fuentes\r\n",
    "\r\n",
    "**Identificación de Fuentes:**\r\n",
    "- Base de datos interna del CRM\r\n",
    "\r\n",
    "**Descripción de las Fuentes:**\r\n",
    "- La base de datos CRM contiene registros de transacciones, datos de clientes e información sobre las conexiones a la web y a la aplicación que el departamento de IT captura mediante una API.\r\n",
    "\r\n",
    "## 2. Metodos de recolecion de datos\r\n",
    "\r\n",
    "**Procedimientos y Herramientas:**\r\n",
    "- Exportación programada en formato CSV, almacenada en un repositorio de GitHub diariamente. Esta tarea la realiza el departamento de IT.\r\n",
    "\r\n",
    "**Frecuencia de Recolección:**\r\n",
    "- Diariamente\r\n",
    "  \r\n",
    "**S:cri`import pandas as pd\n",
    "csv_url = \"https://raw.githubusercontent.com/ITACADEMYprojectes/projecteML/main/Ecommerce_Customers.csv\"\n",
    "df = pd.read_csv(csv_url)\n",
    "print(df.info())` DataFrame\r\n",
    "print(df.info())\r\n",
    "\r\n",
    "\r\n",
    "## 3. Formato y Estructura de los Datos\r\n",
    "\r\n",
    "**Tipos de Datos:**\r",
    "Numéricos: `Avg. Session Lengthent`, `Time on App`, `Time on Website`, `Length of Membership`, `Yearly Amount Spent`\r\n",
    "- Categórico: `Email`, `Address`, `Avatar`\r\n",
    "\r\n",
    "**Formato de Almacenamiento:**\r\n",
    "- Datos tabulares almacenados en archivo csv.\r\n",
    "\r\n",
    "## 4. Limitaciones de los datos\r\n",
    "\r\n",
    "- Diferentes Tiempos de Actualización: Los datos de uso de la app y del sitio web pueden ser recolectados y actualizados en el CRM en momentos diferentes.\r\n",
    "\r\n",
    "## 4. Consideraciones sobre Datos Sensibles\r\n",
    "\r\n",
    "**Tipos de Datos Sensibles:**\r\n",
    "- Información Personal Identificable (PII):`Email`, `Address`\r\n",
    "- Información Financiera Sensible: `Yearly Amount Spent`\r\n",
    "- Datos Comportamentales Sensibles:`Avg. Session Length`, `Time on App`, `Time on Website`, `Length of Membership`\r\n",
    "\r\n",
    "**Medidas de Protección:**\r\n",
    "- **Anonimización y Pseudonimización:**\r\n",
    "  - Se aplicarán hash para el email y la sustitución por códigos para Address.\r\n",
    "- **Acceso Restringido:**\r\n",
    "  - Acceso a datos sensibles restringido solo a personal autorizado con necesidad de conocer estos datos para fines específicos del proyecto.\r\n",
    "- **Cump\n",
    "limiento de Regulaciones:**\r\n",
    "  - Cumplimiento con la GDRPlaciones:**\r\n",
    "  - Cumplimiento con la GDRP\r\n",
    "print(df.info())"
   ]
  }
 ],
 "metadata": {
  "kernelspec": {
   "display_name": "Python 3 (ipykernel)",
   "language": "python",
   "name": "python3"
  },
  "language_info": {
   "codemirror_mode": {
    "name": "ipython",
    "version": 3
   },
   "file_extension": ".py",
   "mimetype": "text/x-python",
   "name": "python",
   "nbconvert_exporter": "python",
   "pygments_lexer": "ipython3",
   "version": "3.12.4"
  }
 },
 "nbformat": 4,
 "nbformat_minor": 5
}
