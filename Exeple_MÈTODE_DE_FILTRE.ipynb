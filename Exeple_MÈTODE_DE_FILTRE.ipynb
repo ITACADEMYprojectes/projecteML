{
 "cells": [
  {
   "cell_type": "markdown",
   "id": "7cc513f4-801d-4c7b-98de-c54c08a12441",
   "metadata": {},
   "source": [
    "# Importar Llibreries Necessàries\n",
    "\n",
    "import pandas as pd\n",
    "import numpy as np\n",
    "import seaborn as sns\n",
    "import matplotlib.pyplot as plt\n",
    "\n",
    "df = pd.read_csv('botiga_dataset.csv')\n",
    "\n",
    "# Calcular la matriu de correlació només amb les variables numèriques\n",
    "correlation = df.corr(numeric_only=True)\n",
    "\n",
    "# Visualitzar la matriu de correlació amb un mapa de calor\n",
    "\n",
    "plt.figure(figsize=(10, 8))\n",
    "sns.heatmap(correlation, annot=True, cmap='coolwarm', vmin=-1, vmax=1, center=0)\n",
    "plt.title('Matriz de Correlación')\n",
    "plt.show()\n",
    "\n",
    "## Interpretació del Valor de Pearson\n",
    "\n",
    "# Rang de valors:\n",
    "\n",
    "- (-1): Correlació negativa perfecta. Quan una variable augmenta, l'altra disminueix proporcionalment.\n",
    "- 0: Sense correlació lineal. No hi ha una relació lineal entre les variables, tot i que poden tenir una relació no lineal.\n",
    "- 1: Correlació positiva perfecta. Quan una variable augmenta, l'altra també augmenta proporcionalment.\n",
    "\n",
    "# Adreça de la Correlació:\n",
    "\n",
    "- Valors positius: Indiquen una relació lineal positiva. A mesura que augmenta una variable, l'altra tendeix a augmentar.\n",
    "- Valors negatius: Indiquen una relació lineal negativa. A mesura que augmenta una variable, l'altra tendeix a disminuir."
   ]
  },
  {
   "cell_type": "code",
   "execution_count": null,
   "id": "006ebc9e-570f-48e1-92fa-ffa30c79736c",
   "metadata": {},
   "outputs": [],
   "source": []
  }
 ],
 "metadata": {
  "kernelspec": {
   "display_name": "Python 3 (ipykernel)",
   "language": "python",
   "name": "python3"
  },
  "language_info": {
   "codemirror_mode": {
    "name": "ipython",
    "version": 3
   },
   "file_extension": ".py",
   "mimetype": "text/x-python",
   "name": "python",
   "nbconvert_exporter": "python",
   "pygments_lexer": "ipython3",
   "version": "3.12.4"
  }
 },
 "nbformat": 4,
 "nbformat_minor": 5
}
