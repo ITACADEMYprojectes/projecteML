{
 "cells": [
  {
   "cell_type": "markdown",
   "id": "d5de5d8d-9c7c-4668-8f48-3709ba93bee2",
   "metadata": {},
   "source": [
    "\n",
    "### Pipeline de Preprocesamiento ### \n",
    "- hashing, pseudoanonimización, winsorizar, estandarizar variables numéricas\n"
   ]
  },
  {
   "cell_type": "code",
   "execution_count": 64,
   "id": "50630dfc-5aa2-4de2-ab96-2e6ddddd4c6b",
   "metadata": {},
   "outputs": [],
   "source": [
    "# Importación de librerías\n",
    "\n",
    "from sklearn.pipeline import Pipeline\n",
    "from sklearn.preprocessing import StandardScaler\n",
    "import pandas as pd\n",
    "import hashlib\n",
    "from sklearn.base import BaseEstimator, TransformerMixin\n",
    "from sklearn.model_selection import train_test_split\n",
    "import matplotlib.pyplot as plt\n",
    "import seaborn as sns"
   ]
  },
  {
   "cell_type": "code",
   "execution_count": 65,
   "id": "ee2f836d-87fe-45ac-b12f-6d4c38e1e55e",
   "metadata": {},
   "outputs": [],
   "source": [
    "## TRATAMIENTO DE INFORMACIÓN SENSIBLE\n",
    "# Transformador personalizado para hashing de emails\n",
    "# Función para hashear el email\n",
    "def hash_email(email):\n",
    "    email = email.lower()  # Convertir a minúsculas\n",
    "    sha256 = hashlib.sha256()  # Crear el objeto hash\n",
    "    sha256.update(email.encode('utf-8'))  # Codificar el email a bytes y aplicar hashing\n",
    "    return sha256.hexdigest()  # Retornar el hash en formato hexadecimal\n",
    "\n",
    "# Transformador personalizado para hashing de emails\n",
    "class EmailHasher(BaseEstimator, TransformerMixin):\n",
    "    def __init__(self):\n",
    "        pass\n",
    "\n",
    "    def fit(self, X, y=None):\n",
    "        return self  # No necesita ajuste\n",
    "\n",
    "    def transform(self, X):\n",
    "        X['Email'] = X['Email'].apply(hash_email)  # Aplicar hashing a la columna 'Email'\n",
    "        return X  # Retornar el DataFrame transformado\n"
   ]
  },
  {
   "cell_type": "code",
   "execution_count": 66,
   "id": "29ae46f6-91cd-4cd5-91a8-cd4b2eaba01c",
   "metadata": {},
   "outputs": [],
   "source": [
    "# Transformador personalizado para Pseodoanonimizar Direcciones\n",
    "\n",
    "class AddressPseudoanonymizer(BaseEstimator, TransformerMixin):\n",
    "    def __init__(self, address_column='Address'):\n",
    "        self.address_column = address_column\n",
    "        self.address_to_code = {}  # Diccionario para almacenar códigos pseudoanónimos\n",
    "\n",
    "    def fit(self, X, y=None):\n",
    "        # Crear un diccionario que asigna códigos únicos a cada dirección\n",
    "        unique_addresses = X[self.address_column].unique()\n",
    "        self.address_to_code = {address: f'ADDR{index + 1}' for index, address in enumerate(unique_addresses)}\n",
    "        return self  # Retornar self para mantener la estructura de scikit-learn\n",
    "\n",
    "    def transform(self, X):\n",
    "        # Reemplazar las direcciones en el DataFrame por sus códigos correspondientes\n",
    "        X[self.address_column] = X[self.address_column].map(self.address_to_code)\n",
    "        return X  # Retornar el DataFrame transformado\n"
   ]
  },
  {
   "cell_type": "code",
   "execution_count": 67,
   "id": "7e4d358c-9b0d-4e56-877d-b6e2fe264c8a",
   "metadata": {},
   "outputs": [],
   "source": [
    "# Transformador personalizado para Winsorizar\n",
    "\n",
    "from sklearn.base import BaseEstimator, TransformerMixin\n",
    "import numpy as np\n",
    "\n",
    "class Winsorizer(BaseEstimator, TransformerMixin):\n",
    "    def __init__(self, columns):\n",
    "        self.columns = columns  # Columnas que serán winsorizadas\n",
    "        self.limits_ = {}  # Aquí guardaremos los límites IQR calculados\n",
    "\n",
    "    # Método para calcular límites basados en IQR\n",
    "    def calculate_iqr_limits(self, df, columns):\n",
    "        limits_dict = {}\n",
    "        for column in columns:\n",
    "            Q1 = df[column].quantile(0.25)\n",
    "            Q3 = df[column].quantile(0.75)\n",
    "            IQR = Q3 - Q1\n",
    "\n",
    "            lower_bound = Q1 - 1.5 * IQR\n",
    "            upper_bound = Q3 + 1.5 * IQR\n",
    "\n",
    "            limits_dict[column] = (lower_bound, upper_bound)\n",
    "\n",
    "        return limits_dict\n",
    "\n",
    "    def fit(self, X, y=None):\n",
    "        # Calcular los límites de winsorización basados en el IQR para cada columna\n",
    "        self.limits_ = self.calculate_iqr_limits(X, self.columns)\n",
    "        return self\n",
    "\n",
    "    def transform(self, X):\n",
    "        X_copy = X.copy()  # Crear una copia del DataFrame para no modificar el original\n",
    "        # Aplicar winsorización utilizando los límites calculados\n",
    "        for column in self.columns:\n",
    "            lower_bound, upper_bound = self.limits_[column]\n",
    "            X_copy[column] = np.clip(X_copy[column], lower_bound, upper_bound)\n",
    "        return X_copy\n",
    "\n"
   ]
  },
  {
   "cell_type": "code",
   "execution_count": 68,
   "id": "f516e9bd-aa87-4214-b7c7-2cbe5b4dc7bb",
   "metadata": {},
   "outputs": [],
   "source": [
    "# Transformador Personalizado para Estandarización\n",
    "\n",
    "class NumericalStandardizer(BaseEstimator, TransformerMixin):\n",
    "    def __init__(self, columns):\n",
    "        self.columns = columns\n",
    "        self.scaler = StandardScaler()\n",
    "\n",
    "    def fit(self, X, y=None):\n",
    "        # Ajustar el escalador solo a las columnas especificadas\n",
    "        self.scaler.fit(X[self.columns])\n",
    "        return self\n",
    "\n",
    "    def transform(self, X):\n",
    "        # Aplicar la estandarización\n",
    "        X[self.columns] = self.scaler.transform(X[self.columns])\n",
    "        return X\n"
   ]
  },
  {
   "cell_type": "code",
   "execution_count": 69,
   "id": "004cab7f-5092-4459-bd7b-81607532c9c3",
   "metadata": {},
   "outputs": [],
   "source": [
    "columns_to_check = ['Avg. Session Length', 'Time on App', 'Time on Website', 'Length of Membership']"
   ]
  },
  {
   "cell_type": "code",
   "execution_count": 70,
   "id": "0e88842e-7950-4810-ace4-8a9d798a7113",
   "metadata": {},
   "outputs": [],
   "source": [
    "columns_to_standardize = ['Length of Membership', 'Time on App', 'Avg. Session Length']"
   ]
  },
  {
   "cell_type": "code",
   "execution_count": 77,
   "id": "7bf03c56-35ba-4da5-bc5e-45cc171503de",
   "metadata": {},
   "outputs": [],
   "source": [
    "# Crear el pipeline\n",
    "pipeline = Pipeline([\n",
    "    ('email_hasher', EmailHasher()),\n",
    "    ('address_pseudoanonymizer', AddressPseudoanonymizer(address_column='Address')),\n",
    "    ('winsorizer', Winsorizer(columns=columns_to_check)),\n",
    "    ('standardizer', NumericalStandardizer(columns=columns_to_standardize)) \n",
    "])"
   ]
  },
  {
   "cell_type": "code",
   "execution_count": 72,
   "id": "2eda7290-4756-4ed2-93ee-fe7752146ea5",
   "metadata": {},
   "outputs": [],
   "source": [
    "## Cargar el dataset desde el repositorio de GITHUB\n",
    "url = 'https://raw.githubusercontent.com/ITACADEMYprojectes/projecteML/main/Ecommerce_Customers.csv'\n",
    "df = pd.read_csv(url)"
   ]
  },
  {
   "cell_type": "code",
   "execution_count": 73,
   "id": "8f826b5b-8e04-4d6b-bcb7-4db1e6d818f0",
   "metadata": {},
   "outputs": [],
   "source": [
    "train, test = train_test_split(df, test_size=0.2, random_state=22)"
   ]
  },
  {
   "cell_type": "code",
   "execution_count": null,
   "id": "cab1b29b-5dc5-4933-a1a4-fa901a23287a",
   "metadata": {},
   "outputs": [],
   "source": [
    "# Aplicar el pipeline al conjunto de entrenamiento\n",
    "train_transformed = pipeline.fit_transform(train)\n",
    "\n",
    "# Aplicar el pipeline al conjunto de prueba\n",
    "test_transformed = pipeline.transform(test)\n",
    "\n",
    "# Verificar que las transformaciones se han aplicado\n",
    "print(train_transformed.head())\n",
    "print(test_transformed.head())\n"
   ]
  },
  {
   "cell_type": "code",
   "execution_count": null,
   "id": "4fd6e49e-61d2-4659-a07e-b222a695bddc",
   "metadata": {},
   "outputs": [],
   "source": []
  }
 ],
 "metadata": {
  "kernelspec": {
   "display_name": "Python 3 (ipykernel)",
   "language": "python",
   "name": "python3"
  },
  "language_info": {
   "codemirror_mode": {
    "name": "ipython",
    "version": 3
   },
   "file_extension": ".py",
   "mimetype": "text/x-python",
   "name": "python",
   "nbconvert_exporter": "python",
   "pygments_lexer": "ipython3",
   "version": "3.12.5"
  }
 },
 "nbformat": 4,
 "nbformat_minor": 5
}
